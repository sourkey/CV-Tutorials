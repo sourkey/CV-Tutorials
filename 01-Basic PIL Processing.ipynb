{
 "cells": [
  {
   "cell_type": "markdown",
   "metadata": {},
   "source": [
    "# PIL Intro - Basic PIL Processing\n",
    "\n",
    "Basic PIL operations for image processing. "
   ]
  },
  {
   "cell_type": "code",
   "execution_count": null,
   "metadata": {},
   "outputs": [],
   "source": [
    "import PIL\n",
    "from PIL import Image\n",
    "from IPython.display import display\n",
    "ifile = \"misc/4.2.07.tiff\"\n",
    "image = Image.open(ifile)"
   ]
  },
  {
   "cell_type": "markdown",
   "metadata": {},
   "source": [
    "Make a copy of the image to use for modification. Note the conversion to RGB when the image is being opened."
   ]
  },
  {
   "cell_type": "code",
   "execution_count": null,
   "metadata": {},
   "outputs": [],
   "source": [
    "image.save(\"peppers-copy.png\")\n",
    "image = Image.open(\"peppers-copy.png\").convert('RGB')"
   ]
  },
  {
   "cell_type": "markdown",
   "metadata": {},
   "source": [
    "Now show the image."
   ]
  },
  {
   "cell_type": "code",
   "execution_count": null,
   "metadata": {},
   "outputs": [],
   "source": [
    "display(image)"
   ]
  },
  {
   "cell_type": "markdown",
   "metadata": {},
   "source": [
    "This image will be used to make one larger image named `gradimg` which will show the gradient of various effects from PIL's `ImageEnhance` module. To view the `gradimg` easily the copy will be scaled to half size. Each image with increased effect will be stored in the list `imglist` and modifed with an enhancer object. Let's start with brightness."
   ]
  },
  {
   "cell_type": "code",
   "execution_count": null,
   "metadata": {},
   "outputs": [],
   "source": [
    "from PIL import ImageEnhance\n",
    "\n",
    "# rescale image\n",
    "image.resize((256,256))\n",
    "\n",
    "# create image modifing object\n",
    "enhancer = ImageEnhance.Brightness(image)\n",
    "\n",
    "# make image gradients\n",
    "imgbuf = []\n",
    "for i in range(3, 8):\n",
    "    imgbuf.append(enhancer.enhance(i/5))"
   ]
  },
  {
   "cell_type": "markdown",
   "metadata": {},
   "source": [
    "Now create a new image that stitches the 5 above into one. The `Image.new()` method requires a mode (RGB in this case) and size, which will be retrieved from the first image of `gradimg`. The images will be offset (i.e. `xpos`) by the width after each paste."
   ]
  },
  {
   "cell_type": "code",
   "execution_count": null,
   "metadata": {},
   "outputs": [],
   "source": [
    "# reference image\n",
    "imgref = imgbuf[0]\n",
    "\n",
    "# create new image with 5 images from imgbuf\n",
    "gradimg = Image.new(imgref.mode, (imgref.width*5, imgref.height))\n",
    "xpos = 0\n",
    "for img in imgbuf:\n",
    "    gradimg.paste(img, (xpos, 0))\n",
    "    xpos += imgref.width"
   ]
  },
  {
   "cell_type": "markdown",
   "metadata": {},
   "source": [
    "Now, print the result!"
   ]
  },
  {
   "cell_type": "code",
   "execution_count": null,
   "metadata": {},
   "outputs": [],
   "source": [
    "display(gradimg)"
   ]
  },
  {
   "cell_type": "markdown",
   "metadata": {},
   "source": [
    "This can be done easily for other enhance methods, such as contrast."
   ]
  },
  {
   "cell_type": "code",
   "execution_count": null,
   "metadata": {},
   "outputs": [],
   "source": [
    "# create image modifing object\n",
    "enhancer = ImageEnhance.Contrast(image)\n",
    "\n",
    "# make image gradients\n",
    "imgbuf = []\n",
    "for i in range(3, 8):\n",
    "    imgbuf.append(enhancer.enhance(i/5))\n",
    "    \n",
    "# reference image\n",
    "imgref = imgbuf[0]\n",
    "\n",
    "# create new image with 5 images from imgbuf\n",
    "gradimg = Image.new(imgref.mode, (imgref.width*5, imgref.height))\n",
    "xpos = 0\n",
    "for img in imgbuf:\n",
    "    gradimg.paste(img, (xpos, 0))\n",
    "    xpos += imgref.width\n",
    "\n",
    "# display image\n",
    "display(gradimg)"
   ]
  },
  {
   "cell_type": "markdown",
   "metadata": {},
   "source": [
    "Or sharpness."
   ]
  },
  {
   "cell_type": "code",
   "execution_count": null,
   "metadata": {},
   "outputs": [],
   "source": [
    "# create image modifing object\n",
    "enhancer = ImageEnhance.Sharpness(image)\n",
    "\n",
    "# make image gradients\n",
    "imgbuf = []\n",
    "for i in range(3, 8):\n",
    "    imgbuf.append(enhancer.enhance(i/5))\n",
    "    \n",
    "# reference image\n",
    "imgref = imgbuf[0]\n",
    "\n",
    "# create new image with 5 images from imgbuf\n",
    "gradimg = Image.new(imgref.mode, (imgref.width*5, imgref.height))\n",
    "xpos = 0\n",
    "for img in imgbuf:\n",
    "    gradimg.paste(img, (xpos, 0))\n",
    "    xpos += imgref.width\n",
    "\n",
    "# display image\n",
    "display(gradimg)"
   ]
  },
  {
   "cell_type": "markdown",
   "metadata": {},
   "source": [
    "And finally, color. Here the enhance value was modified for the range $[0,1]$."
   ]
  },
  {
   "cell_type": "code",
   "execution_count": null,
   "metadata": {},
   "outputs": [],
   "source": [
    "# create image modifing object\n",
    "enhancer = ImageEnhance.Color(image)\n",
    "\n",
    "# make image gradients\n",
    "imgbuf = []\n",
    "for i in range(0, 6):\n",
    "    imgbuf.append(enhancer.enhance(i/5))\n",
    "    \n",
    "# reference image\n",
    "imgref = imgbuf[0]\n",
    "\n",
    "# create new image with 5 images from imgbuf\n",
    "gradimg = Image.new(imgref.mode, (imgref.width*5, imgref.height))\n",
    "xpos = 0\n",
    "for img in imgbuf:\n",
    "    gradimg.paste(img, (xpos, 0))\n",
    "    xpos += imgref.width\n",
    "\n",
    "# display image\n",
    "display(gradimg)"
   ]
  },
  {
   "cell_type": "markdown",
   "metadata": {},
   "source": [
    "Another way to modify color is by manipulating each color layer. Here the image is adjusted within the RGB layers."
   ]
  },
  {
   "cell_type": "code",
   "execution_count": null,
   "metadata": {},
   "outputs": [],
   "source": [
    "# split image into RGB\n",
    "r,g,b = image.split()\n",
    "\n",
    "# make image gradients\n",
    "imgbuf = []\n",
    "for i in range(1,10):\n",
    "\n",
    "    factor = (0.1,0.5,0.9)\n",
    "       \n",
    "    if i < 4:\n",
    "        mask = r.point(lambda j: j * factor[i-1])\n",
    "        imagetemp = Image.merge(image.mode, (mask, g, b))\n",
    "    elif i < 7 and i > 3:\n",
    "        mask = g.point(lambda j: j * factor[i-4])        \n",
    "        imagetemp = Image.merge(image.mode, (r, mask, b))\n",
    "    elif i > 6:\n",
    "        mask = b.point(lambda j: j * factor[i-7])       \n",
    "        imagetemp = Image.merge(image.mode, (r, b, mask))\n",
    "    \n",
    "    imgbuf.append(imagetemp)\n",
    "\n",
    "# create new image with 5 images from imgbuf\n",
    "gradimg = Image.new(imgref.mode, (imgref.width*3, imgref.height*3))\n",
    "\n",
    "xpos = 0\n",
    "ypos = 0\n",
    "\n",
    "for img in imgbuf:\n",
    "    gradimg.paste(img, (xpos, ypos))\n",
    "    xpos += imgref.width\n",
    "    \n",
    "    if xpos == 3*imgref.width:\n",
    "        xpos = 0\n",
    "        ypos += imgref.height\n",
    "\n",
    "# display image\n",
    "display(gradimg)"
   ]
  }
 ],
 "metadata": {
  "kernelspec": {
   "display_name": "Python 3",
   "language": "python",
   "name": "python3"
  },
  "language_info": {
   "codemirror_mode": {
    "name": "ipython",
    "version": 3
   },
   "file_extension": ".py",
   "mimetype": "text/x-python",
   "name": "python",
   "nbconvert_exporter": "python",
   "pygments_lexer": "ipython3",
   "version": "3.7.3"
  }
 },
 "nbformat": 4,
 "nbformat_minor": 2
}
